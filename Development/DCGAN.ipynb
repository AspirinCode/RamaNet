{
  "nbformat": 4,
  "nbformat_minor": 0,
  "metadata": {
    "colab": {
      "name": "DCGAN.ipynb",
      "version": "0.3.2",
      "provenance": [],
      "collapsed_sections": []
    },
    "kernelspec": {
      "name": "python3",
      "display_name": "Python 3"
    }
  },
  "cells": [
    {
      "metadata": {
        "id": "ip4hAJkwzd-j",
        "colab_type": "text"
      },
      "cell_type": "markdown",
      "source": [
        "Download PSC Helix Dataset"
      ]
    },
    {
      "metadata": {
        "id": "_9yCzVYnBppp",
        "colab_type": "code",
        "colab": {}
      },
      "cell_type": "code",
      "source": [
        "!wget https://www.dropbox.com/s/3mg6edh933uhzu8/PSC_Helix_500.csv?dl=0\n",
        "!mv \"PSC_Helix_500.csv?dl=0\" \"PSC_Helix_500.csv\""
      ],
      "execution_count": 0,
      "outputs": []
    },
    {
      "metadata": {
        "id": "N_Id9aoOzjZz",
        "colab_type": "text"
      },
      "cell_type": "markdown",
      "source": [
        "The Neural Network"
      ]
    },
    {
      "metadata": {
        "id": "lWKitFvM_vVk",
        "colab_type": "code",
        "colab": {}
      },
      "cell_type": "code",
      "source": [
        "import keras\n",
        "import numpy as np\n",
        "import pandas as pd\n",
        "\n",
        "def DCGAN_PSC(choice, filename, CSTmax):\n",
        "\tshape = (150, 3)\n",
        "\tlatent = 100\n",
        "\tbatchs = 32\n",
        "\tepochs = 1000\n",
        "\tDisclr = 1e-7\n",
        "\tAdvrlr = 1e-7\n",
        "\tdata = pd.read_csv(filename, ';')\n",
        "\tphi = data[data.columns[2::3]].values\n",
        "\tpsi = data[data.columns[3::3]].values\n",
        "\tcst = data[data.columns[4::3]].values\n",
        "\tphi /= 360\n",
        "\tpsi /= 360\n",
        "\tcst /= float(CSTmax)\n",
        "\tX = np.array([phi, psi, cst])\n",
        "\tX = np.swapaxes(X, 0, 2)\n",
        "\tX = np.swapaxes(X, 0, 1)\n",
        "\n",
        "\tD = keras.models.Sequential()\n",
        "\tD.add(keras.layers.Conv1D(64, kernel_size=3, input_shape=shape))\n",
        "\tD.add(keras.layers.LeakyReLU(alpha=0.2))\n",
        "\tD.add(keras.layers.Conv1D(64, kernel_size=3))\n",
        "\tD.add(keras.layers.LeakyReLU(alpha=0.2))\n",
        "\tD.add(keras.layers.MaxPooling1D())\n",
        "\tD.add(keras.layers.Conv1D(128, kernel_size=3))\n",
        "\tD.add(keras.layers.LeakyReLU(alpha=0.2))\n",
        "\tD.add(keras.layers.Conv1D(128, kernel_size=3))\n",
        "\tD.add(keras.layers.LeakyReLU(alpha=0.2))\n",
        "\tD.add(keras.layers.MaxPooling1D())\n",
        "\tD.add(keras.layers.Conv1D(256, kernel_size=3))\n",
        "\tD.add(keras.layers.LeakyReLU(alpha=0.2))\n",
        "\tD.add(keras.layers.Conv1D(256, kernel_size=3))\n",
        "\tD.add(keras.layers.LeakyReLU(alpha=0.2))\n",
        "\tD.add(keras.layers.Conv1D(256, kernel_size=3))\n",
        "\tD.add(keras.layers.LeakyReLU(alpha=0.2))\n",
        "\tD.add(keras.layers.Conv1D(256, kernel_size=3))\n",
        "\tD.add(keras.layers.LeakyReLU(alpha=0.2))\n",
        "#\tD.add(keras.layers.MaxPooling1D())\n",
        "\tD.add(keras.layers.Conv1D(512, kernel_size=3))\n",
        "\tD.add(keras.layers.LeakyReLU(alpha=0.2))\n",
        "\tD.add(keras.layers.Conv1D(512, kernel_size=3))\n",
        "\tD.add(keras.layers.LeakyReLU(alpha=0.2))\n",
        "\tD.add(keras.layers.Conv1D(512, kernel_size=3))\n",
        "\tD.add(keras.layers.LeakyReLU(alpha=0.2))\n",
        "\tD.add(keras.layers.Conv1D(512, kernel_size=3))\n",
        "\tD.add(keras.layers.LeakyReLU(alpha=0.2))\n",
        "#\tD.add(keras.layers.MaxPooling1D())\n",
        "\tD.add(keras.layers.Conv1D(512, kernel_size=3))\n",
        "\tD.add(keras.layers.LeakyReLU(alpha=0.2))\n",
        "\tD.add(keras.layers.Conv1D(512, kernel_size=3))\n",
        "\tD.add(keras.layers.LeakyReLU(alpha=0.2))\n",
        "\tD.add(keras.layers.Conv1D(512, kernel_size=3))\n",
        "\tD.add(keras.layers.LeakyReLU(alpha=0.2))\n",
        "\tD.add(keras.layers.Conv1D(512, kernel_size=3))\n",
        "\tD.add(keras.layers.LeakyReLU(alpha=0.2))\n",
        "\tD.add(keras.layers.Flatten())\n",
        "\tD.add(keras.layers.Dense(1, activation='sigmoid'))\n",
        "\tG = keras.models.Sequential()\n",
        "\tG.add(keras.layers.Dense(79*3, activation='relu', input_dim=latent))\n",
        "\tG.add(keras.layers.Reshape((79, 3)))\n",
        "\tG.add(keras.layers.Conv1D(128, kernel_size=3))\n",
        "\tG.add(keras.layers.Activation('relu'))\n",
        "\tG.add(keras.layers.UpSampling1D())\n",
        "\tG.add(keras.layers.Conv1D(64, kernel_size=3))\n",
        "\tG.add(keras.layers.Activation('relu'))\n",
        "\tG.add(keras.layers.Conv1D(3, kernel_size=3))\n",
        "\tG.add(keras.layers.Activation('tanh'))\n",
        "\tDM = keras.models.Sequential()\n",
        "\tDM.add(D)\n",
        "\tDM.compile(optimizer=keras.optimizers.Adam(Disclr), loss='mean_squared_error', metrics=['accuracy'])\n",
        "\tAM = keras.models.Sequential()\n",
        "\tAM.add(G)\n",
        "\tAM.add(D)\n",
        "\tAM.compile(optimizer=keras.optimizers.Adam(Advrlr), loss='mean_squared_error', metrics=['accuracy'])\n",
        "\tif choice == 'train':\n",
        "\t\tfor epoch in range(epochs):\n",
        "\t\t\treal = X[np.random.randint(0, X.shape[0], size=batchs)]\n",
        "\t\t\tnoise = np.random.uniform(0.0, 1.0, size=[batchs, 100])\n",
        "\t\t\tfake = G.predict(noise)\n",
        "\t\t\tx = np.concatenate((real, fake))\n",
        "\t\t\ty = np.ones([2*batchs, 1])\n",
        "\t\t\ty[batchs:, :] = 0\n",
        "\t\t\td_loss = DM.train_on_batch(x, y)\n",
        "\t\t\ty = np.ones([batchs, 1])\n",
        "\t\t\ta_loss = AM.train_on_batch(noise, y)\n",
        "\t\t\tD_loss = round(float(d_loss[0]), 3)\n",
        "\t\t\tD_accu = round(float(d_loss[1]), 3)\n",
        "\t\t\tA_loss = round(float(a_loss[0]), 3)\n",
        "\t\t\tif epoch % 100==0: print('Epoch {:5} Discriminator loss: {:.5f} ||| Adversarial loss: {:.5f}'.format(epoch, D_loss, A_loss))\n",
        "\t\t\tG.save_weights('weights.h5')\n",
        "\telif choice == 'generate':\n",
        "\t\tG.load_weights('weights.h5')\n",
        "\t\tnoise = np.random.normal(0.5, 0.5, (1, 100))\n",
        "\t\tgen = G.predict(noise)\n",
        "\t\tgen = gen.reshape([450])\n",
        "\t\tgen = np.ndarray.tolist(gen)\n",
        "\t\tphiout = gen[0::3]\n",
        "\t\tpsiout = gen[1::3]\n",
        "\t\tcstout = gen[2::3]\n",
        "\t\tphiout = [x*360.0 for x in phiout]\n",
        "\t\tpsiout = [x*360.0 for x in psiout]\n",
        "\t\tcstout = [x*float(CSTmax) for x in cstout]\n",
        "\t\tsavedata = open('prediction.txt', 'w')\n",
        "\t\tfor p, s ,c in zip(phiout, psiout, cstout):\n",
        "\t\t\tsavedata.write('{};{};{}\\n'.format(p, s, c))\n",
        "\t\tsavedata.close()\n",
        "\n",
        "DCGAN_PSC('train', 'PSC_Helix_500.csv', '88.731')\n",
        "\n",
        "for i in range(10):\n",
        "\t\tDCGAN_PSC('generate', 'PSC_Helix_500.csv', '88.731')"
      ],
      "execution_count": 0,
      "outputs": []
    }
  ]
}