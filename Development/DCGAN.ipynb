{
  "nbformat": 4,
  "nbformat_minor": 0,
  "metadata": {
    "colab": {
      "name": "DCGAN.ipynb",
      "version": "0.3.2",
      "provenance": [],
      "collapsed_sections": []
    },
    "kernelspec": {
      "name": "python3",
      "display_name": "Python 3"
    },
    "accelerator": "GPU"
  },
  "cells": [
    {
      "metadata": {
        "id": "ip4hAJkwzd-j",
        "colab_type": "text"
      },
      "cell_type": "markdown",
      "source": [
        "Download PSC Helix Dataset"
      ]
    },
    {
      "metadata": {
        "id": "_9yCzVYnBppp",
        "colab_type": "code",
        "colab": {}
      },
      "cell_type": "code",
      "source": [
        "!wget https://www.dropbox.com/s/3mg6edh933uhzu8/PSC_Helix_500.csv?dl=0\n",
        "!mv \"PSC_Helix_500.csv?dl=0\" \"PSC_Helix_500.csv\""
      ],
      "execution_count": 0,
      "outputs": []
    },
    {
      "metadata": {
        "id": "N_Id9aoOzjZz",
        "colab_type": "text"
      },
      "cell_type": "markdown",
      "source": [
        "The Neural Network"
      ]
    },
    {
      "metadata": {
        "id": "lWKitFvM_vVk",
        "colab_type": "code",
        "colab": {
          "base_uri": "https://localhost:8080/",
          "height": 34
        },
        "outputId": "9e4ae293-bb17-4ac3-affe-42c93c62d959"
      },
      "cell_type": "code",
      "source": [
        "import keras\n",
        "import numpy as np\n",
        "import pandas as pd\n",
        "\n",
        "def DCGAN_PSC(choice, filename):\n",
        "    CSTmax = 88.731\n",
        "    shape = (150, 3)\n",
        "    latent = 100\n",
        "    batchs = 128\n",
        "    epochs = 20000\n",
        "    Disclr = 1e-7\n",
        "    Advrlr = 1e-7\n",
        "    data = pd.read_csv(filename, ';')\n",
        "    phi = data[data.columns[2::3]].values\n",
        "    psi = data[data.columns[3::3]].values\n",
        "    cst = data[data.columns[4::3]].values\n",
        "    phi /= 360\n",
        "    psi /= 360\n",
        "    cst /= CSTmax\n",
        "    X = np.array([phi, psi, cst])\n",
        "    X = np.swapaxes(X, 0, 2)\n",
        "    X = np.swapaxes(X, 0, 1)\n",
        "    D = keras.models.Sequential()\n",
        "    D.add(keras.layers.Conv1D(64, kernel_size=3, input_shape=shape))\n",
        "    D.add(keras.layers.LeakyReLU(alpha=0.2))\n",
        "    D.add(keras.layers.Conv1D(64, kernel_size=3))\n",
        "    D.add(keras.layers.LeakyReLU(alpha=0.2))\n",
        "    D.add(keras.layers.MaxPooling1D())\n",
        "    D.add(keras.layers.Conv1D(128, kernel_size=3))\n",
        "    D.add(keras.layers.LeakyReLU(alpha=0.2))\n",
        "    D.add(keras.layers.Conv1D(128, kernel_size=3))\n",
        "    D.add(keras.layers.LeakyReLU(alpha=0.2))\n",
        "    D.add(keras.layers.MaxPooling1D())\n",
        "    D.add(keras.layers.Conv1D(256, kernel_size=3))\n",
        "    D.add(keras.layers.LeakyReLU(alpha=0.2))\n",
        "    D.add(keras.layers.Conv1D(256, kernel_size=3))\n",
        "    D.add(keras.layers.LeakyReLU(alpha=0.2))\n",
        "    D.add(keras.layers.Conv1D(256, kernel_size=3))\n",
        "    D.add(keras.layers.LeakyReLU(alpha=0.2))\n",
        "    D.add(keras.layers.Conv1D(256, kernel_size=3))\n",
        "    D.add(keras.layers.LeakyReLU(alpha=0.2))\n",
        "#\tD.add(keras.layers.MaxPooling1D())\n",
        "    D.add(keras.layers.Conv1D(512, kernel_size=3))\n",
        "    D.add(keras.layers.LeakyReLU(alpha=0.2))\n",
        "    D.add(keras.layers.Conv1D(512, kernel_size=3))\n",
        "    D.add(keras.layers.LeakyReLU(alpha=0.2))\n",
        "    D.add(keras.layers.Conv1D(512, kernel_size=3))\n",
        "    D.add(keras.layers.LeakyReLU(alpha=0.2))\n",
        "    D.add(keras.layers.Conv1D(512, kernel_size=3))\n",
        "    D.add(keras.layers.LeakyReLU(alpha=0.2))\n",
        "#\tD.add(keras.layers.MaxPooling1D())\n",
        "    D.add(keras.layers.Conv1D(512, kernel_size=3))\n",
        "    D.add(keras.layers.LeakyReLU(alpha=0.2))\n",
        "    D.add(keras.layers.Conv1D(512, kernel_size=3))\n",
        "    D.add(keras.layers.LeakyReLU(alpha=0.2))\n",
        "    D.add(keras.layers.Conv1D(512, kernel_size=3))\n",
        "    D.add(keras.layers.LeakyReLU(alpha=0.2))\n",
        "    D.add(keras.layers.Conv1D(512, kernel_size=3))\n",
        "    D.add(keras.layers.LeakyReLU(alpha=0.2))\n",
        "    D.add(keras.layers.Flatten())\n",
        "    D.add(keras.layers.Dense(1, activation='sigmoid'))\n",
        "    G = keras.models.Sequential()\n",
        "    G.add(keras.layers.Dense(79*3, activation='relu', input_dim=latent))\n",
        "    G.add(keras.layers.Reshape((79, 3)))\n",
        "    G.add(keras.layers.Conv1D(128, kernel_size=3))\n",
        "    G.add(keras.layers.Activation('relu'))\n",
        "    G.add(keras.layers.UpSampling1D())\n",
        "    G.add(keras.layers.Conv1D(64, kernel_size=3))\n",
        "    G.add(keras.layers.Activation('relu'))\n",
        "    G.add(keras.layers.Conv1D(3, kernel_size=3))\n",
        "    G.add(keras.layers.Activation('tanh'))\n",
        "    DM = keras.models.Sequential()\n",
        "    DM.add(D)\n",
        "    DM.compile(optimizer=keras.optimizers.Adam(Disclr), loss='mean_squared_error', metrics=['accuracy'])\n",
        "    AM = keras.models.Sequential()\n",
        "    AM.add(G)\n",
        "    AM.add(D)\n",
        "    AM.compile(optimizer=keras.optimizers.Adam(Advrlr), loss='mean_squared_error', metrics=['accuracy'])\n",
        "    if choice == 'train':\n",
        "        for epoch in range(epochs):\n",
        "            real = X[np.random.randint(0, X.shape[0], size=batchs)]\n",
        "            noise = np.random.uniform(0.0, 1.0, size=[batchs, 100])\n",
        "            fake = G.predict(noise)\n",
        "            x = np.concatenate((real, fake))\n",
        "            y = np.ones([2*batchs, 1])\n",
        "            y[batchs:, :] = 0\n",
        "            d_loss = DM.train_on_batch(x, y)\n",
        "            y = np.ones([batchs, 1])\n",
        "            a_loss = AM.train_on_batch(noise, y)\n",
        "            D_loss = round(float(d_loss[0]), 3)\n",
        "            D_accu = round(float(d_loss[1]), 3)\n",
        "            A_loss = round(float(a_loss[0]), 3)\n",
        "            if epoch % 500==0: print('Epoch {:5}\\tDiscriminator loss: {:.7f}   |   Adversarial loss: {:.7f}'.format(epoch, D_loss, A_loss))\n",
        "            G.save_weights('weights.h5')\n",
        "        print('---------------------------------------------------------------------------\\nDone')\n",
        "    elif choice == 'generate':\n",
        "        G.load_weights('weights.h5')\n",
        "        noise = np.random.normal(0.5, 0.5, (1, 100))\n",
        "        gen = G.predict(noise)\n",
        "        gen = gen.reshape([450])\n",
        "        gen = np.ndarray.tolist(gen)\n",
        "        phiout = gen[0::3]\n",
        "        psiout = gen[1::3]\n",
        "        cstout = gen[2::3]\n",
        "        phiout = [x*360.0 for x in phiout]\n",
        "        psiout = [x*360.0 for x in psiout]\n",
        "        cstout = [x*CSTmax for x in cstout]\n",
        "        savedata = open('prediction.txt', 'w')\n",
        "        for p, s ,c in zip(phiout, psiout, cstout):\n",
        "            savedata.write('{};{};{}\\n'.format(p, s, c))\n",
        "        savedata.close()\n",
        "\n",
        "DCGAN_PSC('train', 'PSC_Helix_500.csv')\n",
        "\n",
        "for i in range(10):\n",
        "    DCGAN_PSC('generate', 'PSC_Helix_500.csv')"
      ],
      "execution_count": 0,
      "outputs": [
        {
          "output_type": "stream",
          "text": [
            "Epoch     0\tDiscriminator loss: 0.2500000   |   Adversarial loss: 0.2500000\n"
          ],
          "name": "stdout"
        }
      ]
    }
  ]
}